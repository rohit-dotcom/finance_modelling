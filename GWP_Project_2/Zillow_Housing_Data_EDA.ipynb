{
 "cells": [
  {
   "cell_type": "code",
   "execution_count": 46,
   "id": "0c911f73-cbf5-4e8c-9276-ac49c6e0158a",
   "metadata": {},
   "outputs": [],
   "source": [
    "import pandas as pd\n",
    "import numpy as np\n",
    "import matplotlib.pyplot as plt\n",
    "import pandas_datareader.data as web\n",
    "import matplotlib.pyplot as plt\n",
    "import yfinance as yfin\n",
    "import datetime\n",
    "yfin.pdr_override()"
   ]
  },
  {
   "cell_type": "markdown",
   "id": "1940bf5f-ba22-430f-ae4c-c015af8be607",
   "metadata": {},
   "source": [
    "### Housing Data\n",
    "\n",
    "We have tried to obtain the housing data from zillow. the link to the site is : https://www.zillow.com/research/data/"
   ]
  },
  {
   "cell_type": "code",
   "execution_count": 47,
   "id": "926a8f89-9fe7-49ac-83ee-17062df7dc24",
   "metadata": {},
   "outputs": [
    {
     "data": {
      "text/html": [
       "<div>\n",
       "<style scoped>\n",
       "    .dataframe tbody tr th:only-of-type {\n",
       "        vertical-align: middle;\n",
       "    }\n",
       "\n",
       "    .dataframe tbody tr th {\n",
       "        vertical-align: top;\n",
       "    }\n",
       "\n",
       "    .dataframe thead th {\n",
       "        text-align: right;\n",
       "    }\n",
       "</style>\n",
       "<table border=\"1\" class=\"dataframe\">\n",
       "  <thead>\n",
       "    <tr style=\"text-align: right;\">\n",
       "      <th></th>\n",
       "      <th>RegionID</th>\n",
       "      <th>SizeRank</th>\n",
       "      <th>RegionName</th>\n",
       "      <th>RegionType</th>\n",
       "      <th>StateName</th>\n",
       "      <th>2000-01-31</th>\n",
       "      <th>2000-02-29</th>\n",
       "      <th>2000-03-31</th>\n",
       "      <th>2000-04-30</th>\n",
       "      <th>2000-05-31</th>\n",
       "      <th>...</th>\n",
       "      <th>2023-02-28</th>\n",
       "      <th>2023-03-31</th>\n",
       "      <th>2023-04-30</th>\n",
       "      <th>2023-05-31</th>\n",
       "      <th>2023-06-30</th>\n",
       "      <th>2023-07-31</th>\n",
       "      <th>2023-08-31</th>\n",
       "      <th>2023-09-30</th>\n",
       "      <th>2023-10-31</th>\n",
       "      <th>2023-11-30</th>\n",
       "    </tr>\n",
       "  </thead>\n",
       "  <tbody>\n",
       "    <tr>\n",
       "      <th>0</th>\n",
       "      <td>102001</td>\n",
       "      <td>0</td>\n",
       "      <td>United States</td>\n",
       "      <td>country</td>\n",
       "      <td>NaN</td>\n",
       "      <td>120020.015498</td>\n",
       "      <td>120231.169181</td>\n",
       "      <td>120493.030838</td>\n",
       "      <td>121054.672692</td>\n",
       "      <td>121701.055130</td>\n",
       "      <td>...</td>\n",
       "      <td>335523.211104</td>\n",
       "      <td>335462.315828</td>\n",
       "      <td>336417.300945</td>\n",
       "      <td>338027.272082</td>\n",
       "      <td>339946.048733</td>\n",
       "      <td>341676.927889</td>\n",
       "      <td>343283.109664</td>\n",
       "      <td>344496.587317</td>\n",
       "      <td>345404.638956</td>\n",
       "      <td>346047.922374</td>\n",
       "    </tr>\n",
       "    <tr>\n",
       "      <th>1</th>\n",
       "      <td>394913</td>\n",
       "      <td>1</td>\n",
       "      <td>New York, NY</td>\n",
       "      <td>msa</td>\n",
       "      <td>NY</td>\n",
       "      <td>214225.979996</td>\n",
       "      <td>215136.319540</td>\n",
       "      <td>216055.090469</td>\n",
       "      <td>217916.875892</td>\n",
       "      <td>219844.819171</td>\n",
       "      <td>...</td>\n",
       "      <td>600197.233963</td>\n",
       "      <td>600509.821697</td>\n",
       "      <td>602499.893236</td>\n",
       "      <td>606494.396332</td>\n",
       "      <td>610627.178896</td>\n",
       "      <td>614197.441106</td>\n",
       "      <td>617467.509260</td>\n",
       "      <td>620170.102296</td>\n",
       "      <td>622496.380878</td>\n",
       "      <td>624788.199586</td>\n",
       "    </tr>\n",
       "    <tr>\n",
       "      <th>2</th>\n",
       "      <td>753899</td>\n",
       "      <td>2</td>\n",
       "      <td>Los Angeles, CA</td>\n",
       "      <td>msa</td>\n",
       "      <td>CA</td>\n",
       "      <td>217855.179140</td>\n",
       "      <td>218665.876819</td>\n",
       "      <td>219745.718395</td>\n",
       "      <td>221894.240387</td>\n",
       "      <td>224244.049881</td>\n",
       "      <td>...</td>\n",
       "      <td>846508.441856</td>\n",
       "      <td>836885.357361</td>\n",
       "      <td>834543.158118</td>\n",
       "      <td>838270.596321</td>\n",
       "      <td>845952.780325</td>\n",
       "      <td>856996.305878</td>\n",
       "      <td>870358.019090</td>\n",
       "      <td>883849.276005</td>\n",
       "      <td>895074.115264</td>\n",
       "      <td>903521.426598</td>\n",
       "    </tr>\n",
       "    <tr>\n",
       "      <th>3</th>\n",
       "      <td>394463</td>\n",
       "      <td>3</td>\n",
       "      <td>Chicago, IL</td>\n",
       "      <td>msa</td>\n",
       "      <td>IL</td>\n",
       "      <td>150007.384914</td>\n",
       "      <td>150146.248054</td>\n",
       "      <td>150410.715349</td>\n",
       "      <td>151068.644257</td>\n",
       "      <td>151860.053595</td>\n",
       "      <td>...</td>\n",
       "      <td>287381.365053</td>\n",
       "      <td>288015.005259</td>\n",
       "      <td>289677.781537</td>\n",
       "      <td>291831.474260</td>\n",
       "      <td>294348.608420</td>\n",
       "      <td>296846.465132</td>\n",
       "      <td>299258.235890</td>\n",
       "      <td>301055.802875</td>\n",
       "      <td>302394.134991</td>\n",
       "      <td>303291.027035</td>\n",
       "    </tr>\n",
       "    <tr>\n",
       "      <th>4</th>\n",
       "      <td>394514</td>\n",
       "      <td>4</td>\n",
       "      <td>Dallas, TX</td>\n",
       "      <td>msa</td>\n",
       "      <td>TX</td>\n",
       "      <td>124041.283443</td>\n",
       "      <td>124096.531864</td>\n",
       "      <td>124160.045580</td>\n",
       "      <td>124324.984028</td>\n",
       "      <td>124542.450856</td>\n",
       "      <td>...</td>\n",
       "      <td>365037.736176</td>\n",
       "      <td>363522.308463</td>\n",
       "      <td>362978.402601</td>\n",
       "      <td>363260.365877</td>\n",
       "      <td>364067.268791</td>\n",
       "      <td>365030.865070</td>\n",
       "      <td>365940.117007</td>\n",
       "      <td>366349.463711</td>\n",
       "      <td>366462.390959</td>\n",
       "      <td>366325.569461</td>\n",
       "    </tr>\n",
       "  </tbody>\n",
       "</table>\n",
       "<p>5 rows × 292 columns</p>\n",
       "</div>"
      ],
      "text/plain": [
       "   RegionID  SizeRank       RegionName RegionType StateName     2000-01-31  \\\n",
       "0    102001         0    United States    country       NaN  120020.015498   \n",
       "1    394913         1     New York, NY        msa        NY  214225.979996   \n",
       "2    753899         2  Los Angeles, CA        msa        CA  217855.179140   \n",
       "3    394463         3      Chicago, IL        msa        IL  150007.384914   \n",
       "4    394514         4       Dallas, TX        msa        TX  124041.283443   \n",
       "\n",
       "      2000-02-29     2000-03-31     2000-04-30     2000-05-31  ...  \\\n",
       "0  120231.169181  120493.030838  121054.672692  121701.055130  ...   \n",
       "1  215136.319540  216055.090469  217916.875892  219844.819171  ...   \n",
       "2  218665.876819  219745.718395  221894.240387  224244.049881  ...   \n",
       "3  150146.248054  150410.715349  151068.644257  151860.053595  ...   \n",
       "4  124096.531864  124160.045580  124324.984028  124542.450856  ...   \n",
       "\n",
       "      2023-02-28     2023-03-31     2023-04-30     2023-05-31     2023-06-30  \\\n",
       "0  335523.211104  335462.315828  336417.300945  338027.272082  339946.048733   \n",
       "1  600197.233963  600509.821697  602499.893236  606494.396332  610627.178896   \n",
       "2  846508.441856  836885.357361  834543.158118  838270.596321  845952.780325   \n",
       "3  287381.365053  288015.005259  289677.781537  291831.474260  294348.608420   \n",
       "4  365037.736176  363522.308463  362978.402601  363260.365877  364067.268791   \n",
       "\n",
       "      2023-07-31     2023-08-31     2023-09-30     2023-10-31     2023-11-30  \n",
       "0  341676.927889  343283.109664  344496.587317  345404.638956  346047.922374  \n",
       "1  614197.441106  617467.509260  620170.102296  622496.380878  624788.199586  \n",
       "2  856996.305878  870358.019090  883849.276005  895074.115264  903521.426598  \n",
       "3  296846.465132  299258.235890  301055.802875  302394.134991  303291.027035  \n",
       "4  365030.865070  365940.117007  366349.463711  366462.390959  366325.569461  \n",
       "\n",
       "[5 rows x 292 columns]"
      ]
     },
     "execution_count": 47,
     "metadata": {},
     "output_type": "execute_result"
    }
   ],
   "source": [
    "raw_housing_df=pd.read_csv(\"./Data/Metro_zhvi_uc_sfrcondo_tier_0.33_0.67_sm_sa_month.csv\")\n",
    "raw_housing_df.head()"
   ]
  },
  {
   "cell_type": "markdown",
   "id": "f375fa7d-b8ea-4a3b-bad6-09e232f9e486",
   "metadata": {},
   "source": [
    "To convert the above data into a timeseries we will have to melt the dataframe."
   ]
  },
  {
   "cell_type": "code",
   "execution_count": 31,
   "id": "fab6be76-1766-4475-8e6b-0d14bab94cd3",
   "metadata": {},
   "outputs": [
    {
     "data": {
      "text/plain": [
       "Index(['RegionID', 'SizeRank', 'RegionName', 'RegionType', 'StateName',\n",
       "       '2000-01-31', '2000-02-29', '2000-03-31', '2000-04-30', '2000-05-31',\n",
       "       ...\n",
       "       '2023-02-28', '2023-03-31', '2023-04-30', '2023-05-31', '2023-06-30',\n",
       "       '2023-07-31', '2023-08-31', '2023-09-30', '2023-10-31', '2023-11-30'],\n",
       "      dtype='object', length=292)"
      ]
     },
     "execution_count": 31,
     "metadata": {},
     "output_type": "execute_result"
    }
   ],
   "source": [
    "raw_housing_df.columns"
   ]
  },
  {
   "cell_type": "code",
   "execution_count": 34,
   "id": "720027dd-3ec0-4455-9582-bb7125dc20e7",
   "metadata": {},
   "outputs": [
    {
     "name": "stdout",
     "output_type": "stream",
     "text": [
      "['RegionID', 'RegionName']\n",
      "Index(['2000-01-31', '2000-02-29', '2000-03-31', '2000-04-30', '2000-05-31',\n",
      "       '2000-06-30', '2000-07-31', '2000-08-31', '2000-09-30', '2000-10-31',\n",
      "       ...\n",
      "       '2023-02-28', '2023-03-31', '2023-04-30', '2023-05-31', '2023-06-30',\n",
      "       '2023-07-31', '2023-08-31', '2023-09-30', '2023-10-31', '2023-11-30'],\n",
      "      dtype='object', length=287)\n"
     ]
    }
   ],
   "source": [
    "#get the identifier variables and value variables\n",
    "# id_vars=raw_housing_df.columns[0:5]\n",
    "id_vars=['RegionID', 'RegionName',]\n",
    "value_vars=raw_housing_df.columns[5:]\n",
    "print(id_vars)\n",
    "print(value_vars)"
   ]
  },
  {
   "cell_type": "code",
   "execution_count": 43,
   "id": "2283d988-4ed1-4024-9dba-00953b4d9e8a",
   "metadata": {},
   "outputs": [],
   "source": [
    "housing_df=raw_housing_df[raw_housing_df['RegionID']==102001].melt(id_vars=id_vars,value_vars=value_vars,var_name='Date',value_name='value')"
   ]
  },
  {
   "cell_type": "code",
   "execution_count": 44,
   "id": "2921e087-69ca-4a39-97d8-23b657f21a47",
   "metadata": {},
   "outputs": [
    {
     "data": {
      "text/html": [
       "<div>\n",
       "<style scoped>\n",
       "    .dataframe tbody tr th:only-of-type {\n",
       "        vertical-align: middle;\n",
       "    }\n",
       "\n",
       "    .dataframe tbody tr th {\n",
       "        vertical-align: top;\n",
       "    }\n",
       "\n",
       "    .dataframe thead th {\n",
       "        text-align: right;\n",
       "    }\n",
       "</style>\n",
       "<table border=\"1\" class=\"dataframe\">\n",
       "  <thead>\n",
       "    <tr style=\"text-align: right;\">\n",
       "      <th></th>\n",
       "      <th>RegionID</th>\n",
       "      <th>RegionName</th>\n",
       "      <th>Date</th>\n",
       "      <th>value</th>\n",
       "    </tr>\n",
       "  </thead>\n",
       "  <tbody>\n",
       "    <tr>\n",
       "      <th>0</th>\n",
       "      <td>102001</td>\n",
       "      <td>United States</td>\n",
       "      <td>2000-01-31</td>\n",
       "      <td>120020.015498</td>\n",
       "    </tr>\n",
       "    <tr>\n",
       "      <th>1</th>\n",
       "      <td>102001</td>\n",
       "      <td>United States</td>\n",
       "      <td>2000-02-29</td>\n",
       "      <td>120231.169181</td>\n",
       "    </tr>\n",
       "    <tr>\n",
       "      <th>2</th>\n",
       "      <td>102001</td>\n",
       "      <td>United States</td>\n",
       "      <td>2000-03-31</td>\n",
       "      <td>120493.030838</td>\n",
       "    </tr>\n",
       "    <tr>\n",
       "      <th>3</th>\n",
       "      <td>102001</td>\n",
       "      <td>United States</td>\n",
       "      <td>2000-04-30</td>\n",
       "      <td>121054.672692</td>\n",
       "    </tr>\n",
       "    <tr>\n",
       "      <th>4</th>\n",
       "      <td>102001</td>\n",
       "      <td>United States</td>\n",
       "      <td>2000-05-31</td>\n",
       "      <td>121701.055130</td>\n",
       "    </tr>\n",
       "    <tr>\n",
       "      <th>...</th>\n",
       "      <td>...</td>\n",
       "      <td>...</td>\n",
       "      <td>...</td>\n",
       "      <td>...</td>\n",
       "    </tr>\n",
       "    <tr>\n",
       "      <th>282</th>\n",
       "      <td>102001</td>\n",
       "      <td>United States</td>\n",
       "      <td>2023-07-31</td>\n",
       "      <td>341676.927889</td>\n",
       "    </tr>\n",
       "    <tr>\n",
       "      <th>283</th>\n",
       "      <td>102001</td>\n",
       "      <td>United States</td>\n",
       "      <td>2023-08-31</td>\n",
       "      <td>343283.109664</td>\n",
       "    </tr>\n",
       "    <tr>\n",
       "      <th>284</th>\n",
       "      <td>102001</td>\n",
       "      <td>United States</td>\n",
       "      <td>2023-09-30</td>\n",
       "      <td>344496.587317</td>\n",
       "    </tr>\n",
       "    <tr>\n",
       "      <th>285</th>\n",
       "      <td>102001</td>\n",
       "      <td>United States</td>\n",
       "      <td>2023-10-31</td>\n",
       "      <td>345404.638956</td>\n",
       "    </tr>\n",
       "    <tr>\n",
       "      <th>286</th>\n",
       "      <td>102001</td>\n",
       "      <td>United States</td>\n",
       "      <td>2023-11-30</td>\n",
       "      <td>346047.922374</td>\n",
       "    </tr>\n",
       "  </tbody>\n",
       "</table>\n",
       "<p>287 rows × 4 columns</p>\n",
       "</div>"
      ],
      "text/plain": [
       "     RegionID     RegionName        Date          value\n",
       "0      102001  United States  2000-01-31  120020.015498\n",
       "1      102001  United States  2000-02-29  120231.169181\n",
       "2      102001  United States  2000-03-31  120493.030838\n",
       "3      102001  United States  2000-04-30  121054.672692\n",
       "4      102001  United States  2000-05-31  121701.055130\n",
       "..        ...            ...         ...            ...\n",
       "282    102001  United States  2023-07-31  341676.927889\n",
       "283    102001  United States  2023-08-31  343283.109664\n",
       "284    102001  United States  2023-09-30  344496.587317\n",
       "285    102001  United States  2023-10-31  345404.638956\n",
       "286    102001  United States  2023-11-30  346047.922374\n",
       "\n",
       "[287 rows x 4 columns]"
      ]
     },
     "execution_count": 44,
     "metadata": {},
     "output_type": "execute_result"
    }
   ],
   "source": [
    "housing_df"
   ]
  },
  {
   "cell_type": "code",
   "execution_count": 58,
   "id": "f607208a-4343-4b1f-b60a-cd59024f59ec",
   "metadata": {},
   "outputs": [
    {
     "data": {
      "text/plain": [
       "<Axes: xlabel='Date'>"
      ]
     },
     "execution_count": 58,
     "metadata": {},
     "output_type": "execute_result"
    },
    {
     "data": {
      "image/png": "[encoded data removed]",
      "text/plain": [
       "<Figure size 640x480 with 1 Axes>"
      ]
     },
     "metadata": {},
     "output_type": "display_data"
    }
   ],
   "source": [
    "housing_df.set_index(\"Date\")[[\"value\"]].plot()"
   ]
  },
  {
   "cell_type": "markdown",
   "id": "218ab735-94d9-430b-9073-6580173a1173",
   "metadata": {},
   "source": [
    "#### VIX data"
   ]
  },
  {
   "cell_type": "code",
   "execution_count": 69,
   "id": "9ac84112-7a58-4c2f-8dc7-1aa1feb383d2",
   "metadata": {},
   "outputs": [
    {
     "name": "stdout",
     "output_type": "stream",
     "text": [
      "[*********************100%%**********************]  1 of 1 completed\n"
     ]
    }
   ],
   "source": [
    "#get the bitcoin adjusted closing prices for the last year\n",
    "start = datetime.date(2000, 1, 31)\n",
    "end = datetime.date(2023, 11, 30)\n",
    "\n",
    "vix_df=web.DataReader([\"^vix\"],start=start,end=end,)[\"Adj Close\"].resample('M').last()"
   ]
  },
  {
   "cell_type": "code",
   "execution_count": 71,
   "id": "9a9510b6-f050-4832-9e9a-6ac05942df3e",
   "metadata": {},
   "outputs": [
    {
     "data": {
      "text/plain": [
       "<Axes: xlabel='Date'>"
      ]
     },
     "execution_count": 71,
     "metadata": {},
     "output_type": "execute_result"
    },
    {
     "data": {
      "image/png": "[encoded data removed]",
      "text/plain": [
       "<Figure size 640x480 with 1 Axes>"
      ]
     },
     "metadata": {},
     "output_type": "display_data"
    }
   ],
   "source": [
    "vix_df.plot()"
   ]
  },
  {
   "cell_type": "code",
   "execution_count": null,
   "id": "43099ce1-269a-4080-b599-94a86b578698",
   "metadata": {},
   "outputs": [],
   "source": []
  }
 ],
 "metadata": {
  "kernelspec": {
   "display_name": "Python 3 (ipykernel)",
   "language": "python",
   "name": "python3"
  },
  "language_info": {
   "codemirror_mode": {
    "name": "ipython",
    "version": 3
   },
   "file_extension": ".py",
   "mimetype": "text/x-python",
   "name": "python",
   "nbconvert_exporter": "python",
   "pygments_lexer": "ipython3",
   "version": "3.12.0"
  }
 },
 "nbformat": 4,
 "nbformat_minor": 5
}
